{
 "cells": [
  {
   "cell_type": "markdown",
   "metadata": {},
   "source": [
    "#  DataBase contruction"
   ]
  },
  {
   "cell_type": "code",
   "execution_count": 18,
   "metadata": {},
   "outputs": [],
   "source": [
    "import pandas as pd"
   ]
  },
  {
   "cell_type": "code",
   "execution_count": 33,
   "metadata": {},
   "outputs": [],
   "source": [
    "# reading all the data files\n",
    "data_clinical_patient = pd.read_csv('data_clinical_patient.txt', sep=\"\\t\")\n",
    "data_clinical_sample = pd.read_csv('data_clinical_sample.txt', sep=\"\\t\")\n",
    "data_cna_log2 = pd.read_csv('data_cna_log2.txt', sep=\"\\t\")\n",
    "data_cna = pd.read_csv('data_cna.txt', sep=\"\\t\")\n",
    "data_mutations = pd.read_csv('data_mutations.txt', sep=\"\\t\", header=2, dtype={\"Exon_Number\": \"string\"})\n",
    "data_sv = pd.read_csv('data_sv.txt', sep=\"\\t\")"
   ]
  },
  {
   "cell_type": "code",
   "execution_count": 20,
   "metadata": {},
   "outputs": [],
   "source": [
    "# removing bad rows\n",
    "data_clinical_sample = data_clinical_sample[4:]"
   ]
  },
  {
   "cell_type": "code",
   "execution_count": 21,
   "metadata": {},
   "outputs": [],
   "source": [
    "# matching the sample id to match other tables\n",
    "data_clinical_patient[\"SAMPLE_ID\"] = data_clinical_patient[\"PATIENT_ID\"].apply(lambda x: \"P-\" + x[7:])"
   ]
  },
  {
   "cell_type": "code",
   "execution_count": 22,
   "metadata": {},
   "outputs": [],
   "source": [
    "# make all sample id header name the same - \"SAMPLE_ID\"\n",
    "data_clinical_sample.rename(columns={\"Sample Identifier\": 'SAMPLE_ID'}, inplace=True)\n",
    "data_mutations.rename(columns={\"Tumor_Sample_Barcode\": 'SAMPLE_ID'}, inplace=True)\n",
    "data_sv.rename(columns={\"Sample_Id\": 'SAMPLE_ID'}, inplace=True)"
   ]
  },
  {
   "cell_type": "code",
   "execution_count": 23,
   "metadata": {},
   "outputs": [],
   "source": [
    "# merge everything\n",
    "merged_clinical_data = data_clinical_patient.merge(data_clinical_sample, on=\"SAMPLE_ID\", how='outer')\n",
    "merged_mutations_data = merged_clinical_data.merge(data_mutations, on=\"SAMPLE_ID\", how='outer')\n",
    "merged_all_data = merged_mutations_data.merge(data_sv, on=\"SAMPLE_ID\", how='outer')"
   ]
  },
  {
   "cell_type": "code",
   "execution_count": 24,
   "metadata": {},
   "outputs": [],
   "source": [
    "merged_all_data.to_csv(\"pan_cancer_db_merged.csv\")"
   ]
  },
  {
   "cell_type": "code",
   "execution_count": 44,
   "metadata": {},
   "outputs": [],
   "source": [
    "merged_all_data[\"SNP_event\"] = merged_all_data[\"Reference_Allele\"].fillna(\"\").astype(str) + \">\" + merged_all_data[\"Tumor_Seq_Allele2\"].fillna(\"\").astype(str)\n"
   ]
  },
  {
   "cell_type": "code",
   "execution_count": 45,
   "metadata": {},
   "outputs": [],
   "source": [
    "data_for_model = merged_all_data[[\"PATIENT_ID\", \"SEX\", \"DIAGNOSIS AGE\", \"SMOKE STATUS\", \"TMB (nonsynonymous)\",\n",
    "                                \"Hugo_Symbol\", \"Entrez_Gene_Id\", \"Chromosome\", \"Start_Position\", \"End_Position\",\n",
    "                                \"Consequence\", \"Variant_Classification\", \"Variant_Type\", \"SNP_event\", \"Protein_position\", \"Codons\", \n",
    "                                \"Exon_Number\",\"VAR_TYPE_SX\", \"Site1_Hugo_Symbol\", \"Site2_Hugo_Symbol\",\"Event_Info\"]]\n"
   ]
  },
  {
   "cell_type": "code",
   "execution_count": 54,
   "metadata": {},
   "outputs": [],
   "source": [
    "data_for_model.to_csv(\"pan_cancer_db_for_model.csv\")"
   ]
  },
  {
   "cell_type": "code",
   "execution_count": 17,
   "metadata": {},
   "outputs": [
    {
     "data": {
      "text/plain": [
       "(105906, 23)"
      ]
     },
     "execution_count": 17,
     "metadata": {},
     "output_type": "execute_result"
    }
   ],
   "source": [
    "data_for_model.shape"
   ]
  },
  {
   "metadata": {
    "ExecuteTime": {
     "end_time": "2024-11-14T12:32:25.665348Z",
     "start_time": "2024-11-14T12:31:42.170362Z"
    }
   },
   "cell_type": "code",
   "outputs": [
    {
     "name": "stdout",
     "output_type": "stream",
     "text": [
      "Collecting plotly\r\n",
      "  Obtaining dependency information for plotly from https://files.pythonhosted.org/packages/e5/ae/580600f441f6fc05218bd6c9d5794f4aef072a7d9093b291f1c50a9db8bc/plotly-5.24.1-py3-none-any.whl.metadata\r\n",
      "  Downloading plotly-5.24.1-py3-none-any.whl.metadata (7.3 kB)\r\n",
      "Collecting tenacity>=6.2.0 (from plotly)\r\n",
      "  Obtaining dependency information for tenacity>=6.2.0 from https://files.pythonhosted.org/packages/b6/cb/b86984bed139586d01532a587464b5805f12e397594f19f931c4c2fbfa61/tenacity-9.0.0-py3-none-any.whl.metadata\r\n",
      "  Downloading tenacity-9.0.0-py3-none-any.whl.metadata (1.2 kB)\r\n",
      "Requirement already satisfied: packaging in /Users/davidi/Sites/llm-project/venv/lib/python3.10/site-packages (from plotly) (24.2)\r\n",
      "Downloading plotly-5.24.1-py3-none-any.whl (19.1 MB)\r\n",
      "\u001B[2K   \u001B[90m━━━━━━━━━━━━━━━━━━━━━━━━━━━━━━━━━━━━━━━━\u001B[0m \u001B[32m19.1/19.1 MB\u001B[0m \u001B[31m5.9 MB/s\u001B[0m eta \u001B[36m0:00:00\u001B[0m00:01\u001B[0m00:01\u001B[0m\r\n",
      "\u001B[?25hDownloading tenacity-9.0.0-py3-none-any.whl (28 kB)\r\n",
      "Installing collected packages: tenacity, plotly\r\n",
      "Successfully installed plotly-5.24.1 tenacity-9.0.0\r\n",
      "\r\n",
      "\u001B[1m[\u001B[0m\u001B[34;49mnotice\u001B[0m\u001B[1;39;49m]\u001B[0m\u001B[39;49m A new release of pip is available: \u001B[0m\u001B[31;49m23.2.1\u001B[0m\u001B[39;49m -> \u001B[0m\u001B[32;49m24.3.1\u001B[0m\r\n",
      "\u001B[1m[\u001B[0m\u001B[34;49mnotice\u001B[0m\u001B[1;39;49m]\u001B[0m\u001B[39;49m To update, run: \u001B[0m\u001B[32;49mpip install --upgrade pip\u001B[0m\r\n",
      "Note: you may need to restart the kernel to use updated packages.\n"
     ]
    }
   ],
   "execution_count": 2,
   "source": "pip install plotly"
  },
  {
   "metadata": {},
   "cell_type": "code",
   "outputs": [],
   "execution_count": null,
   "source": ""
  }
 ],
 "metadata": {
  "kernelspec": {
   "display_name": "Python 3",
   "language": "python",
   "name": "python3"
  },
  "language_info": {
   "codemirror_mode": {
    "name": "ipython",
    "version": 3
   },
   "file_extension": ".py",
   "mimetype": "text/x-python",
   "name": "python",
   "nbconvert_exporter": "python",
   "pygments_lexer": "ipython3",
   "version": "3.7.6"
  }
 },
 "nbformat": 4,
 "nbformat_minor": 4
}
