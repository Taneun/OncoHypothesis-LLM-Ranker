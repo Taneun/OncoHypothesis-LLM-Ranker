{
 "cells": [
  {
   "cell_type": "markdown",
   "metadata": {},
   "source": [
    "#  DataBase contruction"
   ]
  },
  {
   "cell_type": "code",
   "execution_count": 18,
   "metadata": {},
   "outputs": [],
   "source": [
    "import pandas as pd"
   ]
  },
  {
   "cell_type": "code",
   "execution_count": 33,
   "metadata": {},
   "outputs": [],
   "source": [
    "# reading all the data files\n",
    "data_clinical_patient = pd.read_csv('data_clinical_patient.txt', sep=\"\\t\")\n",
    "data_clinical_sample = pd.read_csv('data_clinical_sample.txt', sep=\"\\t\")\n",
    "data_cna_log2 = pd.read_csv('data_cna_log2.txt', sep=\"\\t\")\n",
    "data_cna = pd.read_csv('data_cna.txt', sep=\"\\t\")\n",
    "data_mutations = pd.read_csv('data_mutations.txt', sep=\"\\t\", header=2, dtype={\"Exon_Number\": \"string\"})\n",
    "data_sv = pd.read_csv('data_sv.txt', sep=\"\\t\")"
   ]
  },
  {
   "cell_type": "code",
   "execution_count": 20,
   "metadata": {},
   "outputs": [],
   "source": [
    "# removing bad rows\n",
    "data_clinical_sample = data_clinical_sample[4:]"
   ]
  },
  {
   "cell_type": "code",
   "execution_count": 21,
   "metadata": {},
   "outputs": [],
   "source": [
    "# matching the sample id to match other tables\n",
    "data_clinical_patient[\"SAMPLE_ID\"] = data_clinical_patient[\"PATIENT_ID\"].apply(lambda x: \"P-\" + x[7:])"
   ]
  },
  {
   "cell_type": "code",
   "execution_count": 22,
   "metadata": {},
   "outputs": [],
   "source": [
    "# make all sample id header name the same - \"SAMPLE_ID\"\n",
    "data_clinical_sample.rename(columns={\"Sample Identifier\": 'SAMPLE_ID'}, inplace=True)\n",
    "data_mutations.rename(columns={\"Tumor_Sample_Barcode\": 'SAMPLE_ID'}, inplace=True)\n",
    "data_sv.rename(columns={\"Sample_Id\": 'SAMPLE_ID'}, inplace=True)"
   ]
  },
  {
   "cell_type": "code",
   "execution_count": 23,
   "metadata": {},
   "outputs": [],
   "source": [
    "# merge everything\n",
    "merged_clinical_data = data_clinical_patient.merge(data_clinical_sample, on=\"SAMPLE_ID\", how='outer')\n",
    "merged_mutations_data = merged_clinical_data.merge(data_mutations, on=\"SAMPLE_ID\", how='outer')\n",
    "merged_all_data = merged_mutations_data.merge(data_sv, on=\"SAMPLE_ID\", how='outer')"
   ]
  },
  {
   "cell_type": "code",
   "execution_count": 24,
   "metadata": {},
   "outputs": [],
   "source": [
    "merged_all_data.to_csv(\"pan_cancer_db_merged.csv\")"
   ]
  },
  {
   "cell_type": "code",
   "execution_count": 44,
   "metadata": {},
   "outputs": [],
   "source": [
    "merged_all_data[\"SNP_event\"] = merged_all_data[\"Reference_Allele\"].fillna(\"\").astype(str) + \">\" + merged_all_data[\"Tumor_Seq_Allele2\"].fillna(\"\").astype(str)\n"
   ]
  },
  {
   "cell_type": "code",
   "execution_count": 45,
   "metadata": {},
   "outputs": [],
   "source": [
    "data_for_model = merged_all_data[[\"PATIENT_ID\", \"SEX\", \"DIAGNOSIS AGE\", \"SMOKE STATUS\", \"TMB (nonsynonymous)\",\n",
    "                                \"Hugo_Symbol\", \"Entrez_Gene_Id\", \"Chromosome\", \"Start_Position\", \"End_Position\",\n",
    "                                \"Consequence\", \"Variant_Classification\", \"Variant_Type\", \"SNP_event\", \"Protein_position\", \"Codons\", \n",
    "                                \"Exon_Number\",\"VAR_TYPE_SX\", \"Site1_Hugo_Symbol\", \"Site2_Hugo_Symbol\",\"Event_Info\"]]\n"
   ]
  },
  {
   "cell_type": "code",
   "execution_count": 54,
   "metadata": {},
   "outputs": [],
   "source": [
    "data_for_model.to_csv(\"pan_cancer_db_for_model.csv\")"
   ]
  },
  {
   "cell_type": "code",
   "execution_count": 17,
   "metadata": {},
   "outputs": [
    {
     "data": {
      "text/plain": [
       "(105906, 23)"
      ]
     },
     "execution_count": 17,
     "metadata": {},
     "output_type": "execute_result"
    }
   ],
   "source": [
    "data_for_model.shape"
   ]
  },
  {
   "cell_type": "code",
   "execution_count": null,
   "metadata": {},
   "outputs": [],
   "source": []
  }
 ],
 "metadata": {
  "kernelspec": {
   "display_name": "Python 3",
   "language": "python",
   "name": "python3"
  },
  "language_info": {
   "codemirror_mode": {
    "name": "ipython",
    "version": 3
   },
   "file_extension": ".py",
   "mimetype": "text/x-python",
   "name": "python",
   "nbconvert_exporter": "python",
   "pygments_lexer": "ipython3",
   "version": "3.7.6"
  }
 },
 "nbformat": 4,
 "nbformat_minor": 4
}
