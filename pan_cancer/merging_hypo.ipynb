{
 "cells": [
  {
   "cell_type": "code",
   "id": "initial_id",
   "metadata": {
    "collapsed": true
   },
   "source": "import pandas as pd",
   "outputs": [],
   "execution_count": null
  },
  {
   "metadata": {},
   "cell_type": "code",
   "source": [
    "# forest = pd.read_csv(\"models_hypotheses/Random_Forest_gpu_hypotheses_as_sentences.csv\")\n",
    "xgb = pd.read_csv(\"models_hypotheses/XGBoost_hypotheses_as_sentences.csv\")\n",
    "# rules = pd.read_csv(\"models_hypotheses/rules_df.csv\")\n",
    "lgb = pd.read_csv(\"models_hypotheses/LightGBM_hypotheses_as_sentences.csv\")\n",
    "lift = pd.read_csv(\"models_hypotheses/LIFT_hypotheses_as_sentences.csv\")\n",
    "lift.rename(columns={'Cancer Type': 'cancer_type'}, inplace=True)"
   ],
   "id": "91749544dbf281d9",
   "outputs": [],
   "execution_count": null
  },
  {
   "metadata": {},
   "cell_type": "code",
   "source": [
    "# Define source-to-method mapping\n",
    "sources = {\n",
    "    'lgb': 'LGBM',\n",
    "    'xgb': 'XGBS',\n",
    "    'lift': 'LIFT',\n",
    "    # 'rules': 'RULE',\n",
    "    # 'forest': 'FRST',\n",
    "}\n",
    "\n",
    "# Initialize an empty list to store processed dataframes\n",
    "processed_dfs = []\n",
    "\n",
    "# Process each dataframe in a loop\n",
    "for df_name, df in [('xgb', xgb), ('lgb', lgb), ('lift', lift)]:\n",
    "    # Create a copy to avoid modifying the original\n",
    "    temp_df = df.copy()\n",
    "\n",
    "    # Add method column\n",
    "    temp_df['method'] = sources[df_name]\n",
    "\n",
    "    # Rename the hypothesis column to 'hypo' as requested in output\n",
    "    temp_df = temp_df.rename(columns={'hypothesis': 'hypo_factors'})\n",
    "\n",
    "    # Add to list of processed dataframes\n",
    "    processed_dfs.append(temp_df)\n",
    "\n",
    "# Combine all processed dataframes\n",
    "combined_df = pd.concat(processed_dfs, ignore_index=True)\n",
    "\n",
    "combined_df.sort_values(by=['method', 'support'], ascending=[True, False], inplace=True)\n",
    "combined_df['rank'] = combined_df.groupby('method')['support'].rank(ascending=False, method='first').astype(int)\n",
    "combined_df['hypo_id'] = combined_df.apply(\n",
    "        lambda row: f\"{row['method']}.{row['cancer_type'].upper().replace(' ', '_')}.{row['rank']}\",\n",
    "        axis=1\n",
    "    )\n",
    "\n",
    "# Display the first few rows to verify the result\n",
    "combined_df.head()"
   ],
   "id": "9e54d723829baff8",
   "outputs": [],
   "execution_count": null
  },
  {
   "metadata": {},
   "cell_type": "code",
   "source": [
    "# make the first column the hypo_id, the second the cancer_type, the third the hypo_factors while keeping all the other columns\n",
    "combined_df = combined_df[['hypo_id', 'cancer_type', 'hypo_factors'] + [col for col in combined_df.columns if col not in ['hypo_id', 'cancer_type', 'hypo_factors']]]\n"
   ],
   "id": "21bf87372238b9fc",
   "outputs": [],
   "execution_count": null
  },
  {
   "metadata": {},
   "cell_type": "code",
   "source": "combined_df.shape",
   "id": "f45a07c73b2402c5",
   "outputs": [],
   "execution_count": null
  },
  {
   "metadata": {},
   "cell_type": "code",
   "source": "combined_df['method'].value_counts()",
   "id": "4e63b21ab1a2bfd9",
   "outputs": [],
   "execution_count": null
  },
  {
   "metadata": {},
   "cell_type": "code",
   "source": "combined_df.to_csv(\"models_hypotheses/combined_hypotheses.csv\", index=False)",
   "id": "2c8174377e574723",
   "outputs": [],
   "execution_count": null
  },
  {
   "metadata": {},
   "cell_type": "code",
   "source": "",
   "id": "441698ad114253df",
   "outputs": [],
   "execution_count": null
  }
 ],
 "metadata": {
  "kernelspec": {
   "display_name": "Python 3",
   "language": "python",
   "name": "python3"
  },
  "language_info": {
   "codemirror_mode": {
    "name": "ipython",
    "version": 2
   },
   "file_extension": ".py",
   "mimetype": "text/x-python",
   "name": "python",
   "nbconvert_exporter": "python",
   "pygments_lexer": "ipython2",
   "version": "2.7.6"
  }
 },
 "nbformat": 4,
 "nbformat_minor": 5
}
