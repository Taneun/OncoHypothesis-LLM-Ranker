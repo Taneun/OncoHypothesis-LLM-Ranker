{
 "cells": [
  {
   "cell_type": "code",
   "id": "initial_id",
   "metadata": {
    "collapsed": true,
    "ExecuteTime": {
     "end_time": "2025-04-08T13:21:06.458700Z",
     "start_time": "2025-04-08T13:21:06.429854Z"
    }
   },
   "source": "import pandas as pd",
   "outputs": [],
   "execution_count": 4
  },
  {
   "metadata": {
    "ExecuteTime": {
     "end_time": "2025-04-08T13:21:36.133977Z",
     "start_time": "2025-04-08T13:21:36.103598Z"
    }
   },
   "cell_type": "code",
   "source": [
    "# forest = pd.read_csv(\"models_hypotheses/Random_Forest_gpu_hypotheses_as_sentences.csv\")\n",
    "xgb = pd.read_csv(\"models_hypotheses/XGBoost_hypotheses_as_sentences.csv\")\n",
    "# rules = pd.read_csv(\"models_hypotheses/rules_df.csv\")\n",
    "lgb = pd.read_csv(\"models_hypotheses/LightGBM_hypotheses_as_sentences.csv\")\n",
    "lift = pd.read_csv(\"models_hypotheses/LIFT_hypotheses_as_sentences.csv\")\n",
    "lift.rename(columns={'Cancer Type': 'cancer_type'}, inplace=True)"
   ],
   "id": "91749544dbf281d9",
   "outputs": [],
   "execution_count": 7
  },
  {
   "metadata": {
    "ExecuteTime": {
     "end_time": "2025-04-08T13:37:49.419434Z",
     "start_time": "2025-04-08T13:37:49.375740Z"
    }
   },
   "cell_type": "code",
   "source": [
    "# Define source-to-method mapping\n",
    "sources = {\n",
    "    'lgb': 'LGBM',\n",
    "    'xgb': 'XGBS',\n",
    "    'lift': 'LIFT',\n",
    "    # 'rules': 'RULE',\n",
    "    # 'forest': 'FRST',\n",
    "}\n",
    "\n",
    "# Initialize an empty list to store processed dataframes\n",
    "processed_dfs = []\n",
    "\n",
    "# Process each dataframe in a loop\n",
    "for df_name, df in [('xgb', xgb), ('lgb', lgb), ('lift', lift)]:\n",
    "    # Create a copy to avoid modifying the original\n",
    "    temp_df = df.copy()\n",
    "\n",
    "    # Add method column\n",
    "    temp_df['method'] = sources[df_name]\n",
    "\n",
    "    # Rename the hypothesis column to 'hypo' as requested in output\n",
    "    temp_df = temp_df.rename(columns={'hypothesis': 'hypo_factors'})\n",
    "\n",
    "    # Add to list of processed dataframes\n",
    "    processed_dfs.append(temp_df)\n",
    "\n",
    "# Combine all processed dataframes\n",
    "combined_df = pd.concat(processed_dfs, ignore_index=True)\n",
    "\n",
    "combined_df.sort_values(by=['method', 'support'], ascending=[True, False], inplace=True)\n",
    "combined_df['rank'] = combined_df.groupby('method')['support'].rank(ascending=False, method='first').astype(int)\n",
    "combined_df['hypo_id'] = combined_df.apply(\n",
    "        lambda row: f\"{sources[df_name]}.{row['cancer_type'].upper().replace(' ', '_')}.{row['rank']}\",\n",
    "        axis=1\n",
    "    )\n",
    "\n",
    "# Display the first few rows to verify the result\n",
    "combined_df.head()"
   ],
   "id": "9e54d723829baff8",
   "outputs": [
    {
     "data": {
      "text/plain": [
       "    Codons Hugo_Symbol  Start_Position           cancer_type  \\\n",
       "640    NaN         NaN             NaN  Colorectal Carcinoma   \n",
       "641    NaN         NaN             NaN  Colorectal Carcinoma   \n",
       "767    NaN         NaN             NaN        Gastric Cancer   \n",
       "642    NaN         NaN             NaN  Colorectal Carcinoma   \n",
       "768    NaN         NaN             NaN        Gastric Cancer   \n",
       "\n",
       "     upstream_gene_variant  TMB (nonsynonymous)  End_Position  \\\n",
       "640                    NaN             8.766667           NaN   \n",
       "641                    NaN             3.333333           NaN   \n",
       "767                    NaN             2.900000           NaN   \n",
       "642                    NaN             3.100000           NaN   \n",
       "768                    NaN             2.833333           NaN   \n",
       "\n",
       "    Site1_Hugo_Symbol     Sex Event_Info  ...  splice_acceptor_variant  \\\n",
       "640               NaN    Male        NaN  ...                      NaN   \n",
       "641               NaN  Female        NaN  ...                      NaN   \n",
       "767               NaN    Male        NaN  ...                      NaN   \n",
       "642               NaN  Female        NaN  ...                      NaN   \n",
       "768               NaN    Male        NaN  ...                      NaN   \n",
       "\n",
       "    support                                       hypo_factors method  \\\n",
       "640   262.0  TMB (nonsynonymous) value is 8.766666667 AND S...   LGBM   \n",
       "641   105.0  TMB (nonsynonymous) value is 3.333333333 AND S...   LGBM   \n",
       "767    95.0  TMB (nonsynonymous) value is 2.9 AND Sex value...   LGBM   \n",
       "642    94.0  TMB (nonsynonymous) value is 3.1 AND Sex value...   LGBM   \n",
       "768    85.0  TMB (nonsynonymous) value is 2.833333333 AND S...   LGBM   \n",
       "\n",
       "    VAR_TYPE_SX Unnamed: 0 Consequence  Position rank  \\\n",
       "640         NaN        NaN         NaN       NaN    1   \n",
       "641         NaN        NaN         NaN       NaN    2   \n",
       "767         NaN        NaN         NaN       NaN    3   \n",
       "642         NaN        NaN         NaN       NaN    4   \n",
       "768         NaN        NaN         NaN       NaN    5   \n",
       "\n",
       "                         hypo_id  \n",
       "640  LIFT.COLORECTAL_CARCINOMA.1  \n",
       "641  LIFT.COLORECTAL_CARCINOMA.2  \n",
       "767        LIFT.GASTRIC_CANCER.3  \n",
       "642  LIFT.COLORECTAL_CARCINOMA.4  \n",
       "768        LIFT.GASTRIC_CANCER.5  \n",
       "\n",
       "[5 rows x 29 columns]"
      ],
      "text/html": [
       "<div>\n",
       "<style scoped>\n",
       "    .dataframe tbody tr th:only-of-type {\n",
       "        vertical-align: middle;\n",
       "    }\n",
       "\n",
       "    .dataframe tbody tr th {\n",
       "        vertical-align: top;\n",
       "    }\n",
       "\n",
       "    .dataframe thead th {\n",
       "        text-align: right;\n",
       "    }\n",
       "</style>\n",
       "<table border=\"1\" class=\"dataframe\">\n",
       "  <thead>\n",
       "    <tr style=\"text-align: right;\">\n",
       "      <th></th>\n",
       "      <th>Codons</th>\n",
       "      <th>Hugo_Symbol</th>\n",
       "      <th>Start_Position</th>\n",
       "      <th>cancer_type</th>\n",
       "      <th>upstream_gene_variant</th>\n",
       "      <th>TMB (nonsynonymous)</th>\n",
       "      <th>End_Position</th>\n",
       "      <th>Site1_Hugo_Symbol</th>\n",
       "      <th>Sex</th>\n",
       "      <th>Event_Info</th>\n",
       "      <th>...</th>\n",
       "      <th>splice_acceptor_variant</th>\n",
       "      <th>support</th>\n",
       "      <th>hypo_factors</th>\n",
       "      <th>method</th>\n",
       "      <th>VAR_TYPE_SX</th>\n",
       "      <th>Unnamed: 0</th>\n",
       "      <th>Consequence</th>\n",
       "      <th>Position</th>\n",
       "      <th>rank</th>\n",
       "      <th>hypo_id</th>\n",
       "    </tr>\n",
       "  </thead>\n",
       "  <tbody>\n",
       "    <tr>\n",
       "      <th>640</th>\n",
       "      <td>NaN</td>\n",
       "      <td>NaN</td>\n",
       "      <td>NaN</td>\n",
       "      <td>Colorectal Carcinoma</td>\n",
       "      <td>NaN</td>\n",
       "      <td>8.766667</td>\n",
       "      <td>NaN</td>\n",
       "      <td>NaN</td>\n",
       "      <td>Male</td>\n",
       "      <td>NaN</td>\n",
       "      <td>...</td>\n",
       "      <td>NaN</td>\n",
       "      <td>262.0</td>\n",
       "      <td>TMB (nonsynonymous) value is 8.766666667 AND S...</td>\n",
       "      <td>LGBM</td>\n",
       "      <td>NaN</td>\n",
       "      <td>NaN</td>\n",
       "      <td>NaN</td>\n",
       "      <td>NaN</td>\n",
       "      <td>1</td>\n",
       "      <td>LIFT.COLORECTAL_CARCINOMA.1</td>\n",
       "    </tr>\n",
       "    <tr>\n",
       "      <th>641</th>\n",
       "      <td>NaN</td>\n",
       "      <td>NaN</td>\n",
       "      <td>NaN</td>\n",
       "      <td>Colorectal Carcinoma</td>\n",
       "      <td>NaN</td>\n",
       "      <td>3.333333</td>\n",
       "      <td>NaN</td>\n",
       "      <td>NaN</td>\n",
       "      <td>Female</td>\n",
       "      <td>NaN</td>\n",
       "      <td>...</td>\n",
       "      <td>NaN</td>\n",
       "      <td>105.0</td>\n",
       "      <td>TMB (nonsynonymous) value is 3.333333333 AND S...</td>\n",
       "      <td>LGBM</td>\n",
       "      <td>NaN</td>\n",
       "      <td>NaN</td>\n",
       "      <td>NaN</td>\n",
       "      <td>NaN</td>\n",
       "      <td>2</td>\n",
       "      <td>LIFT.COLORECTAL_CARCINOMA.2</td>\n",
       "    </tr>\n",
       "    <tr>\n",
       "      <th>767</th>\n",
       "      <td>NaN</td>\n",
       "      <td>NaN</td>\n",
       "      <td>NaN</td>\n",
       "      <td>Gastric Cancer</td>\n",
       "      <td>NaN</td>\n",
       "      <td>2.900000</td>\n",
       "      <td>NaN</td>\n",
       "      <td>NaN</td>\n",
       "      <td>Male</td>\n",
       "      <td>NaN</td>\n",
       "      <td>...</td>\n",
       "      <td>NaN</td>\n",
       "      <td>95.0</td>\n",
       "      <td>TMB (nonsynonymous) value is 2.9 AND Sex value...</td>\n",
       "      <td>LGBM</td>\n",
       "      <td>NaN</td>\n",
       "      <td>NaN</td>\n",
       "      <td>NaN</td>\n",
       "      <td>NaN</td>\n",
       "      <td>3</td>\n",
       "      <td>LIFT.GASTRIC_CANCER.3</td>\n",
       "    </tr>\n",
       "    <tr>\n",
       "      <th>642</th>\n",
       "      <td>NaN</td>\n",
       "      <td>NaN</td>\n",
       "      <td>NaN</td>\n",
       "      <td>Colorectal Carcinoma</td>\n",
       "      <td>NaN</td>\n",
       "      <td>3.100000</td>\n",
       "      <td>NaN</td>\n",
       "      <td>NaN</td>\n",
       "      <td>Female</td>\n",
       "      <td>NaN</td>\n",
       "      <td>...</td>\n",
       "      <td>NaN</td>\n",
       "      <td>94.0</td>\n",
       "      <td>TMB (nonsynonymous) value is 3.1 AND Sex value...</td>\n",
       "      <td>LGBM</td>\n",
       "      <td>NaN</td>\n",
       "      <td>NaN</td>\n",
       "      <td>NaN</td>\n",
       "      <td>NaN</td>\n",
       "      <td>4</td>\n",
       "      <td>LIFT.COLORECTAL_CARCINOMA.4</td>\n",
       "    </tr>\n",
       "    <tr>\n",
       "      <th>768</th>\n",
       "      <td>NaN</td>\n",
       "      <td>NaN</td>\n",
       "      <td>NaN</td>\n",
       "      <td>Gastric Cancer</td>\n",
       "      <td>NaN</td>\n",
       "      <td>2.833333</td>\n",
       "      <td>NaN</td>\n",
       "      <td>NaN</td>\n",
       "      <td>Male</td>\n",
       "      <td>NaN</td>\n",
       "      <td>...</td>\n",
       "      <td>NaN</td>\n",
       "      <td>85.0</td>\n",
       "      <td>TMB (nonsynonymous) value is 2.833333333 AND S...</td>\n",
       "      <td>LGBM</td>\n",
       "      <td>NaN</td>\n",
       "      <td>NaN</td>\n",
       "      <td>NaN</td>\n",
       "      <td>NaN</td>\n",
       "      <td>5</td>\n",
       "      <td>LIFT.GASTRIC_CANCER.5</td>\n",
       "    </tr>\n",
       "  </tbody>\n",
       "</table>\n",
       "<p>5 rows × 29 columns</p>\n",
       "</div>"
      ]
     },
     "execution_count": 19,
     "metadata": {},
     "output_type": "execute_result"
    }
   ],
   "execution_count": 19
  },
  {
   "metadata": {
    "ExecuteTime": {
     "end_time": "2025-04-08T13:37:53.526338Z",
     "start_time": "2025-04-08T13:37:53.519373Z"
    }
   },
   "cell_type": "code",
   "source": [
    "# make the first column the hypo_id, the second the cancer_type, the third the hypo_factors while keeping all the other columns\n",
    "combined_df = combined_df[['hypo_id', 'cancer_type', 'hypo_factors'] + [col for col in combined_df.columns if col not in ['hypo_id', 'cancer_type', 'hypo_factors']]]\n"
   ],
   "id": "21bf87372238b9fc",
   "outputs": [],
   "execution_count": 20
  },
  {
   "metadata": {
    "ExecuteTime": {
     "end_time": "2025-04-08T13:38:46.775688Z",
     "start_time": "2025-04-08T13:38:46.761150Z"
    }
   },
   "cell_type": "code",
   "source": "combined_df.shape",
   "id": "f45a07c73b2402c5",
   "outputs": [
    {
     "data": {
      "text/plain": [
       "(1295, 29)"
      ]
     },
     "execution_count": 21,
     "metadata": {},
     "output_type": "execute_result"
    }
   ],
   "execution_count": 21
  },
  {
   "metadata": {
    "ExecuteTime": {
     "end_time": "2025-04-08T13:39:15.248992Z",
     "start_time": "2025-04-08T13:39:15.215640Z"
    }
   },
   "cell_type": "code",
   "source": "combined_df['method'].value_counts()",
   "id": "4e63b21ab1a2bfd9",
   "outputs": [
    {
     "data": {
      "text/plain": [
       "method\n",
       "LGBM    634\n",
       "XGBS    621\n",
       "LIFT     40\n",
       "Name: count, dtype: int64"
      ]
     },
     "execution_count": 22,
     "metadata": {},
     "output_type": "execute_result"
    }
   ],
   "execution_count": 22
  },
  {
   "metadata": {
    "ExecuteTime": {
     "end_time": "2025-04-08T13:40:00.067100Z",
     "start_time": "2025-04-08T13:40:00.037751Z"
    }
   },
   "cell_type": "code",
   "source": "combined_df.to_csv(\"models_hypotheses/combined_hypotheses.csv\", index=False)",
   "id": "2c8174377e574723",
   "outputs": [],
   "execution_count": 23
  },
  {
   "metadata": {},
   "cell_type": "code",
   "outputs": [],
   "execution_count": null,
   "source": "",
   "id": "441698ad114253df"
  }
 ],
 "metadata": {
  "kernelspec": {
   "display_name": "Python 3",
   "language": "python",
   "name": "python3"
  },
  "language_info": {
   "codemirror_mode": {
    "name": "ipython",
    "version": 2
   },
   "file_extension": ".py",
   "mimetype": "text/x-python",
   "name": "python",
   "nbconvert_exporter": "python",
   "pygments_lexer": "ipython2",
   "version": "2.7.6"
  }
 },
 "nbformat": 4,
 "nbformat_minor": 5
}
