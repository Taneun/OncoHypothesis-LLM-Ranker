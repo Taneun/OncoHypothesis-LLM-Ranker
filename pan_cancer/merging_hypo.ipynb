{
 "cells": [
  {
   "cell_type": "code",
   "id": "initial_id",
   "metadata": {
    "collapsed": true,
    "ExecuteTime": {
     "end_time": "2025-05-06T10:18:51.684454Z",
     "start_time": "2025-05-06T10:18:51.678134Z"
    }
   },
   "source": "import pandas as pd",
   "outputs": [],
   "execution_count": 45
  },
  {
   "metadata": {
    "ExecuteTime": {
     "end_time": "2025-05-06T10:18:51.704231Z",
     "start_time": "2025-05-06T10:18:51.690463Z"
    }
   },
   "cell_type": "code",
   "source": [
    "# forest = pd.read_csv(\"models_hypotheses/Random_Forest_gpu_hypotheses_as_sentences.csv\")\n",
    "xgb = pd.read_csv(\"models_hypotheses/XGBoost_hypotheses_as_sentences.csv\")\n",
    "# rules = pd.read_csv(\"models_hypotheses/rules_df.csv\")\n",
    "lgb = pd.read_csv(\"models_hypotheses/LightGBM_hypotheses_as_sentences.csv\")\n",
    "lift = pd.read_csv(\"models_hypotheses/LIFT_hypotheses_as_sentences.csv\")\n",
    "lift.rename(columns={'Cancer Type': 'cancer_type'}, inplace=True)"
   ],
   "id": "91749544dbf281d9",
   "outputs": [],
   "execution_count": 46
  },
  {
   "metadata": {
    "ExecuteTime": {
     "end_time": "2025-05-06T10:18:51.737578Z",
     "start_time": "2025-05-06T10:18:51.720116Z"
    }
   },
   "cell_type": "code",
   "source": [
    "# Define source-to-method mapping\n",
    "sources = {\n",
    "    'lgb': 'LGBM',\n",
    "    'xgb': 'XGBS',\n",
    "    'lift': 'LIFT',\n",
    "    # 'rules': 'RULE',\n",
    "    # 'forest': 'FRST',\n",
    "}\n",
    "\n",
    "# Initialize an empty list to store processed dataframes\n",
    "processed_dfs = []\n",
    "\n",
    "# Process each dataframe in a loop\n",
    "for df_name, df in [('xgb', xgb), ('lgb', lgb), ('lift', lift)]:\n",
    "    # Create a copy to avoid modifying the original\n",
    "    temp_df = df.copy()\n",
    "\n",
    "    # Add method column\n",
    "    temp_df['method'] = sources[df_name]\n",
    "\n",
    "    # Rename the hypothesis column to 'hypo' as requested in output\n",
    "    temp_df = temp_df.rename(columns={'hypothesis': 'hypo_factors'})\n",
    "\n",
    "    # Add to list of processed dataframes\n",
    "    processed_dfs.append(temp_df)\n",
    "\n",
    "# Combine all processed dataframes\n",
    "combined_df = pd.concat(processed_dfs, ignore_index=True)\n",
    "\n",
    "combined_df.sort_values(by=['method', 'support'], ascending=[True, False], inplace=True)\n",
    "combined_df['rank'] = combined_df.groupby('method')['support'].rank(ascending=False, method='first').astype(int)\n",
    "combined_df['hypo_id'] = combined_df.apply(\n",
    "        lambda row: f\"{row['method']}.{row['cancer_type'].upper().replace(' ', '_')}.{row['rank']}\",\n",
    "        axis=1\n",
    "    )\n",
    "\n",
    "# Display the first few rows to verify the result\n",
    "combined_df.head()"
   ],
   "id": "9e54d723829baff8",
   "outputs": [
    {
     "data": {
      "text/plain": [
       "              cancer_type Codons  Start_Position Hugo_Symbol  End_Position  \\\n",
       "636  Colorectal Carcinoma    NaN             NaN         NaN           NaN   \n",
       "637  Colorectal Carcinoma    NaN             NaN         NaN           NaN   \n",
       "801        Gastric Cancer    NaN             NaN         NaN           NaN   \n",
       "638  Colorectal Carcinoma    NaN             NaN         NaN           NaN   \n",
       "802        Gastric Cancer    NaN             NaN         NaN           NaN   \n",
       "\n",
       "     upstream_gene_variant  TMB (nonsynonymous)     Sex Event_Info  \\\n",
       "636                    NaN             8.766667    Male        NaN   \n",
       "637                    NaN             3.333333  Female        NaN   \n",
       "801                    NaN             2.900000    Male        NaN   \n",
       "638                    NaN             3.100000  Female        NaN   \n",
       "802                    NaN             2.833333    Male        NaN   \n",
       "\n",
       "    Site1_Hugo_Symbol  ...  splice_acceptor_variant support  \\\n",
       "636               NaN  ...                      NaN   214.0   \n",
       "637               NaN  ...                      NaN   105.0   \n",
       "801               NaN  ...                      NaN    94.0   \n",
       "638               NaN  ...                      NaN    92.0   \n",
       "802               NaN  ...                      NaN    78.0   \n",
       "\n",
       "                                          hypo_factors method Unnamed: 0  \\\n",
       "636  TMB (nonsynonymous) value is 8.766666667 AND D...   LGBM        NaN   \n",
       "637  TMB (nonsynonymous) value is 3.333333333 AND D...   LGBM        NaN   \n",
       "801  TMB (nonsynonymous) value is 2.9 AND Diagnosis...   LGBM        NaN   \n",
       "638  TMB (nonsynonymous) value is 3.1 AND Diagnosis...   LGBM        NaN   \n",
       "802  TMB (nonsynonymous) value is 2.833333333 AND D...   LGBM        NaN   \n",
       "\n",
       "    Consequence Position  VAR_TYPE_SX rank                      hypo_id  \n",
       "636         NaN      NaN          NaN    1  LGBM.COLORECTAL_CARCINOMA.1  \n",
       "637         NaN      NaN          NaN    2  LGBM.COLORECTAL_CARCINOMA.2  \n",
       "801         NaN      NaN          NaN    3        LGBM.GASTRIC_CANCER.3  \n",
       "638         NaN      NaN          NaN    4  LGBM.COLORECTAL_CARCINOMA.4  \n",
       "802         NaN      NaN          NaN    5        LGBM.GASTRIC_CANCER.5  \n",
       "\n",
       "[5 rows x 29 columns]"
      ],
      "text/html": [
       "<div>\n",
       "<style scoped>\n",
       "    .dataframe tbody tr th:only-of-type {\n",
       "        vertical-align: middle;\n",
       "    }\n",
       "\n",
       "    .dataframe tbody tr th {\n",
       "        vertical-align: top;\n",
       "    }\n",
       "\n",
       "    .dataframe thead th {\n",
       "        text-align: right;\n",
       "    }\n",
       "</style>\n",
       "<table border=\"1\" class=\"dataframe\">\n",
       "  <thead>\n",
       "    <tr style=\"text-align: right;\">\n",
       "      <th></th>\n",
       "      <th>cancer_type</th>\n",
       "      <th>Codons</th>\n",
       "      <th>Start_Position</th>\n",
       "      <th>Hugo_Symbol</th>\n",
       "      <th>End_Position</th>\n",
       "      <th>upstream_gene_variant</th>\n",
       "      <th>TMB (nonsynonymous)</th>\n",
       "      <th>Sex</th>\n",
       "      <th>Event_Info</th>\n",
       "      <th>Site1_Hugo_Symbol</th>\n",
       "      <th>...</th>\n",
       "      <th>splice_acceptor_variant</th>\n",
       "      <th>support</th>\n",
       "      <th>hypo_factors</th>\n",
       "      <th>method</th>\n",
       "      <th>Unnamed: 0</th>\n",
       "      <th>Consequence</th>\n",
       "      <th>Position</th>\n",
       "      <th>VAR_TYPE_SX</th>\n",
       "      <th>rank</th>\n",
       "      <th>hypo_id</th>\n",
       "    </tr>\n",
       "  </thead>\n",
       "  <tbody>\n",
       "    <tr>\n",
       "      <th>636</th>\n",
       "      <td>Colorectal Carcinoma</td>\n",
       "      <td>NaN</td>\n",
       "      <td>NaN</td>\n",
       "      <td>NaN</td>\n",
       "      <td>NaN</td>\n",
       "      <td>NaN</td>\n",
       "      <td>8.766667</td>\n",
       "      <td>Male</td>\n",
       "      <td>NaN</td>\n",
       "      <td>NaN</td>\n",
       "      <td>...</td>\n",
       "      <td>NaN</td>\n",
       "      <td>214.0</td>\n",
       "      <td>TMB (nonsynonymous) value is 8.766666667 AND D...</td>\n",
       "      <td>LGBM</td>\n",
       "      <td>NaN</td>\n",
       "      <td>NaN</td>\n",
       "      <td>NaN</td>\n",
       "      <td>NaN</td>\n",
       "      <td>1</td>\n",
       "      <td>LGBM.COLORECTAL_CARCINOMA.1</td>\n",
       "    </tr>\n",
       "    <tr>\n",
       "      <th>637</th>\n",
       "      <td>Colorectal Carcinoma</td>\n",
       "      <td>NaN</td>\n",
       "      <td>NaN</td>\n",
       "      <td>NaN</td>\n",
       "      <td>NaN</td>\n",
       "      <td>NaN</td>\n",
       "      <td>3.333333</td>\n",
       "      <td>Female</td>\n",
       "      <td>NaN</td>\n",
       "      <td>NaN</td>\n",
       "      <td>...</td>\n",
       "      <td>NaN</td>\n",
       "      <td>105.0</td>\n",
       "      <td>TMB (nonsynonymous) value is 3.333333333 AND D...</td>\n",
       "      <td>LGBM</td>\n",
       "      <td>NaN</td>\n",
       "      <td>NaN</td>\n",
       "      <td>NaN</td>\n",
       "      <td>NaN</td>\n",
       "      <td>2</td>\n",
       "      <td>LGBM.COLORECTAL_CARCINOMA.2</td>\n",
       "    </tr>\n",
       "    <tr>\n",
       "      <th>801</th>\n",
       "      <td>Gastric Cancer</td>\n",
       "      <td>NaN</td>\n",
       "      <td>NaN</td>\n",
       "      <td>NaN</td>\n",
       "      <td>NaN</td>\n",
       "      <td>NaN</td>\n",
       "      <td>2.900000</td>\n",
       "      <td>Male</td>\n",
       "      <td>NaN</td>\n",
       "      <td>NaN</td>\n",
       "      <td>...</td>\n",
       "      <td>NaN</td>\n",
       "      <td>94.0</td>\n",
       "      <td>TMB (nonsynonymous) value is 2.9 AND Diagnosis...</td>\n",
       "      <td>LGBM</td>\n",
       "      <td>NaN</td>\n",
       "      <td>NaN</td>\n",
       "      <td>NaN</td>\n",
       "      <td>NaN</td>\n",
       "      <td>3</td>\n",
       "      <td>LGBM.GASTRIC_CANCER.3</td>\n",
       "    </tr>\n",
       "    <tr>\n",
       "      <th>638</th>\n",
       "      <td>Colorectal Carcinoma</td>\n",
       "      <td>NaN</td>\n",
       "      <td>NaN</td>\n",
       "      <td>NaN</td>\n",
       "      <td>NaN</td>\n",
       "      <td>NaN</td>\n",
       "      <td>3.100000</td>\n",
       "      <td>Female</td>\n",
       "      <td>NaN</td>\n",
       "      <td>NaN</td>\n",
       "      <td>...</td>\n",
       "      <td>NaN</td>\n",
       "      <td>92.0</td>\n",
       "      <td>TMB (nonsynonymous) value is 3.1 AND Diagnosis...</td>\n",
       "      <td>LGBM</td>\n",
       "      <td>NaN</td>\n",
       "      <td>NaN</td>\n",
       "      <td>NaN</td>\n",
       "      <td>NaN</td>\n",
       "      <td>4</td>\n",
       "      <td>LGBM.COLORECTAL_CARCINOMA.4</td>\n",
       "    </tr>\n",
       "    <tr>\n",
       "      <th>802</th>\n",
       "      <td>Gastric Cancer</td>\n",
       "      <td>NaN</td>\n",
       "      <td>NaN</td>\n",
       "      <td>NaN</td>\n",
       "      <td>NaN</td>\n",
       "      <td>NaN</td>\n",
       "      <td>2.833333</td>\n",
       "      <td>Male</td>\n",
       "      <td>NaN</td>\n",
       "      <td>NaN</td>\n",
       "      <td>...</td>\n",
       "      <td>NaN</td>\n",
       "      <td>78.0</td>\n",
       "      <td>TMB (nonsynonymous) value is 2.833333333 AND D...</td>\n",
       "      <td>LGBM</td>\n",
       "      <td>NaN</td>\n",
       "      <td>NaN</td>\n",
       "      <td>NaN</td>\n",
       "      <td>NaN</td>\n",
       "      <td>5</td>\n",
       "      <td>LGBM.GASTRIC_CANCER.5</td>\n",
       "    </tr>\n",
       "  </tbody>\n",
       "</table>\n",
       "<p>5 rows × 29 columns</p>\n",
       "</div>"
      ]
     },
     "execution_count": 47,
     "metadata": {},
     "output_type": "execute_result"
    }
   ],
   "execution_count": 47
  },
  {
   "metadata": {
    "ExecuteTime": {
     "end_time": "2025-05-06T10:18:51.764009Z",
     "start_time": "2025-05-06T10:18:51.761447Z"
    }
   },
   "cell_type": "code",
   "source": [
    "# make the first column the hypo_id, the second the cancer_type, the third the hypo_factors while keeping all the other columns\n",
    "combined_df = combined_df[['hypo_id', 'cancer_type', 'hypo_factors'] + [col for col in combined_df.columns if col not in ['hypo_id', 'cancer_type', 'hypo_factors']]]\n"
   ],
   "id": "21bf87372238b9fc",
   "outputs": [],
   "execution_count": 48
  },
  {
   "metadata": {
    "ExecuteTime": {
     "end_time": "2025-05-06T10:18:51.784302Z",
     "start_time": "2025-05-06T10:18:51.781391Z"
    }
   },
   "cell_type": "code",
   "source": "combined_df.shape",
   "id": "f45a07c73b2402c5",
   "outputs": [
    {
     "data": {
      "text/plain": [
       "(1294, 29)"
      ]
     },
     "execution_count": 49,
     "metadata": {},
     "output_type": "execute_result"
    }
   ],
   "execution_count": 49
  },
  {
   "metadata": {
    "ExecuteTime": {
     "end_time": "2025-05-06T10:18:51.810060Z",
     "start_time": "2025-05-06T10:18:51.806523Z"
    }
   },
   "cell_type": "code",
   "source": "combined_df['method'].value_counts()",
   "id": "4e63b21ab1a2bfd9",
   "outputs": [
    {
     "data": {
      "text/plain": [
       "method\n",
       "LGBM    633\n",
       "XGBS    621\n",
       "LIFT     40\n",
       "Name: count, dtype: int64"
      ]
     },
     "execution_count": 50,
     "metadata": {},
     "output_type": "execute_result"
    }
   ],
   "execution_count": 50
  },
  {
   "metadata": {
    "ExecuteTime": {
     "end_time": "2025-05-06T10:18:51.847195Z",
     "start_time": "2025-05-06T10:18:51.838918Z"
    }
   },
   "cell_type": "code",
   "source": "combined_df.to_csv(\"models_hypotheses/combined_hypotheses.csv\", index=False)",
   "id": "2c8174377e574723",
   "outputs": [],
   "execution_count": 51
  },
  {
   "metadata": {
    "ExecuteTime": {
     "end_time": "2025-05-06T10:18:51.902258Z",
     "start_time": "2025-05-06T10:18:51.900459Z"
    }
   },
   "cell_type": "code",
   "source": "",
   "id": "a3169fc875b28d86",
   "outputs": [],
   "execution_count": null
  }
 ],
 "metadata": {
  "kernelspec": {
   "display_name": "Python 3",
   "language": "python",
   "name": "python3"
  },
  "language_info": {
   "codemirror_mode": {
    "name": "ipython",
    "version": 2
   },
   "file_extension": ".py",
   "mimetype": "text/x-python",
   "name": "python",
   "nbconvert_exporter": "python",
   "pygments_lexer": "ipython2",
   "version": "2.7.6"
  }
 },
 "nbformat": 4,
 "nbformat_minor": 5
}
